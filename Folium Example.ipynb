{
 "cells": [
  {
   "cell_type": "code",
   "execution_count": 1,
   "metadata": {
    "collapsed": true
   },
   "outputs": [],
   "source": [
    "import folium\n",
    "import pandas as pd\n",
    "import os"
   ]
  },
  {
   "cell_type": "code",
   "execution_count": 11,
   "metadata": {
    "collapsed": false
   },
   "outputs": [],
   "source": [
    "sites = pd.read_csv(r\"C:/Users/Siva Teja/Desktop/TWS/DFW_Sprint/DFW_Sites.csv\")"
   ]
  },
  {
   "cell_type": "code",
   "execution_count": 18,
   "metadata": {
    "collapsed": false
   },
   "outputs": [],
   "source": [
    "sites = sites.drop_duplicates(['Sprint Cascade'],keep = \"first\")"
   ]
  },
  {
   "cell_type": "code",
   "execution_count": 25,
   "metadata": {
    "collapsed": false
   },
   "outputs": [],
   "source": [
    "map = folium.Map(location = [sites['Latitude'].mean(), sites['Longitude'].mean()],zoom_start = 10, tiles = 'OpenStreetMap')"
   ]
  },
  {
   "cell_type": "code",
   "execution_count": 26,
   "metadata": {
    "collapsed": true
   },
   "outputs": [],
   "source": [
    "def color(OEM):\n",
    "    if OEM == \"Clearwire\":\n",
    "        col = \"green\"\n",
    "    elif OEM == \"NSN\":\n",
    "        col = \"red\"\n",
    "    else:\n",
    "        col = \"orange\"\n",
    "    return col"
   ]
  },
  {
   "cell_type": "code",
   "execution_count": 27,
   "metadata": {
    "collapsed": false
   },
   "outputs": [],
   "source": [
    "fg = folium.FeatureGroup(name = \"Site Locations\")\n",
    "\n",
    "for lat,lon,name,OEM in zip(sites['Latitude'],sites['Longitude'],sites['Sprint Cascade'],sites['OEM']):\n",
    "    fg.add_child(folium.Marker(location = [lat,lon], popup = (folium.Popup(name)),icon = folium.Icon(color=color(OEM), icon_color = \"blue\")))\n",
    "\n",
    "map.add_child(fg)\n",
    "\n",
    "os.chdir(\"C:/Users/Siva Teja/Desktop/TWS/DFW_Sprint\")\n",
    "\n",
    "map.save(outfile=\"test.html\")"
   ]
  },
  {
   "cell_type": "code",
   "execution_count": null,
   "metadata": {
    "collapsed": true
   },
   "outputs": [],
   "source": []
  }
 ],
 "metadata": {
  "kernelspec": {
   "display_name": "Python 3",
   "language": "python",
   "name": "python3"
  },
  "language_info": {
   "codemirror_mode": {
    "name": "ipython",
    "version": 3
   },
   "file_extension": ".py",
   "mimetype": "text/x-python",
   "name": "python",
   "nbconvert_exporter": "python",
   "pygments_lexer": "ipython3",
   "version": "3.6.0"
  }
 },
 "nbformat": 4,
 "nbformat_minor": 2
}
